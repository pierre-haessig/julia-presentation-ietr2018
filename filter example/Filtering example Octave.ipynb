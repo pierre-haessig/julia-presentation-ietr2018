{
 "cells": [
  {
   "cell_type": "markdown",
   "metadata": {},
   "source": [
    "This other notebook use [Octave](https://www.gnu.org/software/octave/), a free clone of MATLAB."
   ]
  },
  {
   "cell_type": "code",
   "execution_count": 1,
   "metadata": {},
   "outputs": [
    {
     "name": "stdout",
     "output_type": "stream",
     "text": [
      "ans = 4.2.2\n"
     ]
    }
   ],
   "source": [
    "version"
   ]
  },
  {
   "cell_type": "markdown",
   "metadata": {},
   "source": [
    "# Iterative computation example (signal filtering)\n",
    "\n",
    "This short Octave example is meant to show how Julia can be very fast with iterative computations (e.g. `for` loops), thanks to JIT compilation.\n",
    "\n",
    "Outline:\n",
    "\n",
    "1. An example of iterative computation: exponential smoothing\n",
    "2. How to measure the performance of a program using `tic`, `tac`\n",
    "\n",
    "## A simple iterative computation: Exponential smoothing\n",
    "\n",
    "[Exponential smoothing](https://en.wikipedia.org/wiki/Exponential_smoothing) (also known as \"exponentially weighted moving average\", \"1st order Autoregressive filter\", \"1st order IIR filter\" in signal processing) is a simple recursive filter which can smooth a times series $\\{u_k\\}_{k\\in\\mathbb{N}}$:\n",
    "\n",
    "$$ y_k = ay_{k-1} + (1-a) u_k, \\;\\;\\;\\; k\\in\\mathbb{N}^+, a\\in[0,1[$$\n",
    "\n",
    "Parameter $a$ tunes the smoothing, between none ($a=0$) and strong smoothing ($a\\to1^-$).\n",
    "\n",
    "This is a simple example of a computation that **cannot be vectorized**. Therefore, iteration in a `for` loop cannot be avoided."
   ]
  },
  {
   "cell_type": "markdown",
   "metadata": {},
   "source": [
    "### Example data\n",
    "\n",
    "a kind of random walk, 1000 pts"
   ]
  },
  {
   "cell_type": "code",
   "execution_count": 2,
   "metadata": {},
   "outputs": [],
   "source": [
    "randn(\"seed\", 0) % rng(0) in Matlab"
   ]
  },
  {
   "cell_type": "code",
   "execution_count": 3,
   "metadata": {
    "scrolled": true
   },
   "outputs": [
    {
     "name": "stdout",
     "output_type": "stream",
     "text": [
      "ans =\n",
      "\n",
      "  -2.1539\n",
      "  -3.8406\n",
      "  -4.1771\n",
      "  -3.2734\n",
      "  -3.2200\n",
      "  -2.8456\n",
      "  -3.2280\n",
      "  -3.0542\n",
      "  -2.5635\n",
      "  -2.1738\n",
      "\n"
     ]
    }
   ],
   "source": [
    "u = cumsum(randn(1000,1));\n",
    "u(1:10)"
   ]
  },
  {
   "cell_type": "code",
   "execution_count": 4,
   "metadata": {},
   "outputs": [
    {
     "name": "stdout",
     "output_type": "stream",
     "text": [
      "ans =  1000\n"
     ]
    }
   ],
   "source": [
    "length(u)"
   ]
  },
  {
   "cell_type": "markdown",
   "metadata": {},
   "source": [
    "### An Octave implemenation of the smoothing"
   ]
  },
  {
   "cell_type": "code",
   "execution_count": 5,
   "metadata": {},
   "outputs": [],
   "source": [
    "function y = smooth(u, a)\n",
    "    y = zeros(length(u),1);\n",
    "    \n",
    "    y(1) = (1-a)*u(1);\n",
    "    for k=2:length(u)\n",
    "        y(k) = a*y(k-1) + (1-a)*u(k);\n",
    "    end\n",
    "end"
   ]
  },
  {
   "cell_type": "code",
   "execution_count": 6,
   "metadata": {
    "scrolled": true
   },
   "outputs": [
    {
     "name": "stdout",
     "output_type": "stream",
     "text": [
      "ans =\n",
      "\n",
      "  -0.21539\n",
      "  -0.57791\n",
      "  -0.93783\n",
      "  -1.17139\n",
      "  -1.37625\n",
      "  -1.52318\n",
      "  -1.69367\n",
      "  -1.82972\n",
      "  -1.90310\n",
      "  -1.93017\n",
      "\n"
     ]
    }
   ],
   "source": [
    "smooth(u, 0.9)(1:10)"
   ]
  },
  {
   "cell_type": "markdown",
   "metadata": {},
   "source": [
    "### Plot, to check that things work properly"
   ]
  },
  {
   "cell_type": "code",
   "execution_count": 12,
   "metadata": {
    "scrolled": false
   },
   "outputs": [
    {
     "name": "stdout",
     "output_type": "stream",
     "text": [
      "a =  0.95000\n"
     ]
    },
    {
     "data": {
      "image/png": "[encoded data removed]",
      "text/plain": [
       "<IPython.core.display.Image object>"
      ]
     },
     "metadata": {},
     "output_type": "display_data"
    }
   ],
   "source": [
    "figure();\n",
    "% Call function here\n",
    "\n",
    "a = 0.95\n",
    "hold on;\n",
    "plot(u);\n",
    "plot(smooth(u, a), 'linewidth',5);\n",
    "legend(\"original signal\", \"smoothed\");\n",
    "title(\"signal filter with Octave\")\n",
    "print -dpng signal_filtering_octave.png;"
   ]
  },
  {
   "cell_type": "markdown",
   "metadata": {},
   "source": [
    "## Performance analysis\n",
    "\n",
    "With `tic()` and `toc()` like in Matlab."
   ]
  },
  {
   "cell_type": "code",
   "execution_count": 13,
   "metadata": {},
   "outputs": [
    {
     "name": "stdout",
     "output_type": "stream",
     "text": [
      "Elapsed time is 0.0166769 seconds.\n"
     ]
    }
   ],
   "source": [
    "tic();\n",
    "smooth(u, 0.9);\n",
    "toc();"
   ]
  },
  {
   "cell_type": "markdown",
   "metadata": {},
   "source": [
    "Since this time is too short to be meaningful, let's use more points (10\n",
    "M):"
   ]
  },
  {
   "cell_type": "code",
   "execution_count": 14,
   "metadata": {},
   "outputs": [],
   "source": [
    "randn(\"seed\", 0);\n",
    "u = cumsum(randn(10^7, 1));"
   ]
  },
  {
   "cell_type": "code",
   "execution_count": 15,
   "metadata": {},
   "outputs": [
    {
     "name": "stdout",
     "output_type": "stream",
     "text": [
      "Elapsed time is 92.661 seconds.\n"
     ]
    }
   ],
   "source": [
    "tic();\n",
    "smooth(u, 0.9);\n",
    "toc();"
   ]
  },
  {
   "cell_type": "markdown",
   "metadata": {},
   "source": [
    "10 Mpts take **93 s** to compute (compared to **~70 ms** with Julia). Clearly, there is no JIT enabled here. It's even worse than a native Python loop (4.4 s). "
   ]
  },
  {
   "cell_type": "markdown",
   "metadata": {},
   "source": [
    "### Octave JIT Compiler\n",
    "\n",
    "There is a `--jit-compiler` [command line option](https://octave.org/doc/v4.2.2/Command-Line-Options.html) for Octave that should be tried. \n",
    "\n",
    "However, on my Debian Stretch system, with Octave 4.2.2 from backports, I get an startup error:\n",
    "\n",
    "```bash\n",
    "$ octave --jit-compiler\n",
    "octave exited with signal 11\n",
    "```"
   ]
  }
 ],
 "metadata": {
  "kernelspec": {
   "display_name": "Octave",
   "language": "octave",
   "name": "octave"
  },
  "language_info": {
   "file_extension": ".m",
   "help_links": [
    {
     "text": "GNU Octave",
     "url": "https://www.gnu.org/software/octave/support.html"
    },
    {
     "text": "Octave Kernel",
     "url": "https://github.com/Calysto/octave_kernel"
    },
    {
     "text": "MetaKernel Magics",
     "url": "https://github.com/calysto/metakernel/blob/master/metakernel/magics/README.md"
    }
   ],
   "mimetype": "text/x-octave",
   "name": "octave",
   "version": "4.2.2"
  },
  "toc": {
   "colors": {
    "hover_highlight": "#DAA520",
    "running_highlight": "#FF0000",
    "selected_highlight": "#FFD700"
   },
   "moveMenuLeft": true,
   "nav_menu": {
    "height": "161px",
    "width": "252px"
   },
   "navigate_menu": true,
   "number_sections": true,
   "sideBar": false,
   "threshold": 4,
   "toc_cell": false,
   "toc_position": {
    "height": "156px",
    "left": "1118.33px",
    "right": "74.3333px",
    "top": "120px",
    "width": "407px"
   },
   "toc_section_display": "block",
   "toc_window_display": true
  },
  "varInspector": {
   "cols": {
    "lenName": 16,
    "lenType": 16,
    "lenVar": 40
   },
   "kernels_config": {
    "python": {
     "delete_cmd_postfix": "",
     "delete_cmd_prefix": "del ",
     "library": "var_list.py",
     "varRefreshCmd": "print(var_dic_list())"
    },
    "r": {
     "delete_cmd_postfix": ") ",
     "delete_cmd_prefix": "rm(",
     "library": "var_list.r",
     "varRefreshCmd": "cat(var_dic_list()) "
    }
   },
   "types_to_exclude": [
    "module",
    "function",
    "builtin_function_or_method",
    "instance",
    "_Feature"
   ],
   "window_display": false
  }
 },
 "nbformat": 4,
 "nbformat_minor": 2
}
